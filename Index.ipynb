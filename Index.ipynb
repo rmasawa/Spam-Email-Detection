{
 "cells": [
  {
   "cell_type": "code",
   "execution_count": 75,
   "id": "839111ed",
   "metadata": {},
   "outputs": [],
   "source": [
    "#Packages\n",
    "#---------------------------#\n",
    "\n",
    "# Datamanipulation Packages\n",
    "import pandas as pd\n",
    "import numpy as np\n",
    "\n",
    "\n",
    "#DataVisualization Packages\n",
    "import matplotlib.pyplot as plt\n",
    "import seaborn as sns\n",
    "\n",
    "# Modeling Packages\n",
    "from xgboost import XGBClassifier\n",
    "from xgboost import XGBRegressor\n",
    "from xgboost import plot_importance\n",
    "\n",
    "from sklearn.linear_model import  LogisticRegression\n",
    "from sklearn.tree import DecisionTreeClassifier\n",
    "from sklearn.ensemble import RandomForestClassifier\n",
    "\n",
    "#Transformer\n",
    "from sklearn.preprocessing import LabelEncoder\n",
    "\n",
    "\n",
    "# ignore warnings   \n",
    "import warnings\n",
    "warnings.filterwarnings('ignore')\n",
    "\n",
    "# Display all columns in dataframes\n",
    "pd.set_option('display.max_columns', None)\n"
   ]
  },
  {
   "cell_type": "code",
   "execution_count": 89,
   "id": "2c9d74ff",
   "metadata": {},
   "outputs": [
    {
     "data": {
      "application/vnd.microsoft.datawrangler.viewer.v0+json": {
       "columns": [
        {
         "name": "index",
         "rawType": "int64",
         "type": "integer"
        },
        {
         "name": "Category",
         "rawType": "object",
         "type": "string"
        },
        {
         "name": "Message",
         "rawType": "object",
         "type": "string"
        }
       ],
       "ref": "211ce8b2-1aab-4489-aa16-0f5da9cdd5b7",
       "rows": [
        [
         "0",
         "ham",
         "Go until jurong point, crazy.. Available only in bugis n great world la e buffet... Cine there got amore wat..."
        ],
        [
         "1",
         "ham",
         "Ok lar... Joking wif u oni..."
        ],
        [
         "2",
         "spam",
         "Free entry in 2 a wkly comp to win FA Cup final tkts 21st May 2005. Text FA to 87121 to receive entry question(std txt rate)T&C's apply 08452810075over18's"
        ],
        [
         "3",
         "ham",
         "U dun say so early hor... U c already then say..."
        ],
        [
         "4",
         "ham",
         "Nah I don't think he goes to usf, he lives around here though"
        ]
       ],
       "shape": {
        "columns": 2,
        "rows": 5
       }
      },
      "text/html": [
       "<div>\n",
       "<style scoped>\n",
       "    .dataframe tbody tr th:only-of-type {\n",
       "        vertical-align: middle;\n",
       "    }\n",
       "\n",
       "    .dataframe tbody tr th {\n",
       "        vertical-align: top;\n",
       "    }\n",
       "\n",
       "    .dataframe thead th {\n",
       "        text-align: right;\n",
       "    }\n",
       "</style>\n",
       "<table border=\"1\" class=\"dataframe\">\n",
       "  <thead>\n",
       "    <tr style=\"text-align: right;\">\n",
       "      <th></th>\n",
       "      <th>Category</th>\n",
       "      <th>Message</th>\n",
       "    </tr>\n",
       "  </thead>\n",
       "  <tbody>\n",
       "    <tr>\n",
       "      <th>0</th>\n",
       "      <td>ham</td>\n",
       "      <td>Go until jurong point, crazy.. Available only ...</td>\n",
       "    </tr>\n",
       "    <tr>\n",
       "      <th>1</th>\n",
       "      <td>ham</td>\n",
       "      <td>Ok lar... Joking wif u oni...</td>\n",
       "    </tr>\n",
       "    <tr>\n",
       "      <th>2</th>\n",
       "      <td>spam</td>\n",
       "      <td>Free entry in 2 a wkly comp to win FA Cup fina...</td>\n",
       "    </tr>\n",
       "    <tr>\n",
       "      <th>3</th>\n",
       "      <td>ham</td>\n",
       "      <td>U dun say so early hor... U c already then say...</td>\n",
       "    </tr>\n",
       "    <tr>\n",
       "      <th>4</th>\n",
       "      <td>ham</td>\n",
       "      <td>Nah I don't think he goes to usf, he lives aro...</td>\n",
       "    </tr>\n",
       "  </tbody>\n",
       "</table>\n",
       "</div>"
      ],
      "text/plain": [
       "  Category                                            Message\n",
       "0      ham  Go until jurong point, crazy.. Available only ...\n",
       "1      ham                      Ok lar... Joking wif u oni...\n",
       "2     spam  Free entry in 2 a wkly comp to win FA Cup fina...\n",
       "3      ham  U dun say so early hor... U c already then say...\n",
       "4      ham  Nah I don't think he goes to usf, he lives aro..."
      ]
     },
     "execution_count": 89,
     "metadata": {},
     "output_type": "execute_result"
    }
   ],
   "source": [
    "#Load Data\n",
    "df = pd.read_csv(\"Data/email.csv\")\n",
    "df.head()"
   ]
  },
  {
   "cell_type": "code",
   "execution_count": 77,
   "id": "820dc9d8",
   "metadata": {},
   "outputs": [
    {
     "name": "stdout",
     "output_type": "stream",
     "text": [
      "The Data Info:\n",
      "------------\n",
      "<class 'pandas.core.frame.DataFrame'>\n",
      "RangeIndex: 5573 entries, 0 to 5572\n",
      "Data columns (total 2 columns):\n",
      " #   Column    Non-Null Count  Dtype \n",
      "---  ------    --------------  ----- \n",
      " 0   Category  5573 non-null   object\n",
      " 1   Message   5573 non-null   object\n",
      "dtypes: object(2)\n",
      "memory usage: 87.2+ KB\n",
      "\n",
      "\n",
      "Null COlumns \n",
      "-------------\n",
      "Category    0\n",
      "Message     0\n",
      "dtype: int64\n",
      "\n",
      "\n",
      "Duplicates\n",
      "----------\n",
      "415\n",
      "\n",
      "\n",
      "Count values in the category column\n",
      "-------------------------------------\n",
      "Category\n",
      "ham               4825\n",
      "spam               747\n",
      "{\"mode\":\"full\"       1\n",
      "Name: count, dtype: int64\n"
     ]
    }
   ],
   "source": [
    "#Data Inspection\n",
    "\n",
    "#Check Columns\n",
    "print(\"The Data Info:\")\n",
    "print(\"------------\")\n",
    "df.info()\n",
    "\n",
    "print(\"\\n\")\n",
    "\n",
    "\n",
    "#CHeck Null columns\n",
    "print(\"Null COlumns \")\n",
    "print(\"-------------\")\n",
    "print(df.isna().sum())\n",
    "print(\"\\n\")\n",
    "\n",
    "\n",
    "#Check Duplicates\n",
    "print(\"Duplicates\")\n",
    "print(\"----------\")\n",
    "print(df.duplicated().sum())\n",
    "print(\"\\n\")\n",
    "\n",
    "\n",
    "print(\"Count values in the category column\")\n",
    "print(\"-------------------------------------\")\n",
    "print(df['Category'].value_counts())\n",
    "\n",
    "\n",
    "\n",
    "\n"
   ]
  },
  {
   "cell_type": "markdown",
   "id": "b7c5333b",
   "metadata": {},
   "source": [
    "#### Observations\n",
    "\n",
    "1. There are 415 Duplicactes --------------------------------------------------------> Remove all of them\n",
    "2. There are 2 columns all of type object--------------------------------------------> COnvert category column into integer datatype using label encoder or  maping or lambda function\n",
    "3. There are 4825 values for ham and 747 values for spam; 1 value for {\"mode\":\"full\" --> Drop this record"
   ]
  },
  {
   "cell_type": "markdown",
   "id": "63b26a6d",
   "metadata": {},
   "source": [
    "### Data Cleaning"
   ]
  },
  {
   "cell_type": "code",
   "execution_count": 88,
   "id": "bbf4eedf",
   "metadata": {},
   "outputs": [],
   "source": [
    "#Drop {\"mode\":\"full\" reocrd\n",
    "\n",
    "df1 = df[df[\"Category\"] != '{\"mode\":\"full\"']\n",
    "\n",
    "#Transform Category column to numeric datatype\n",
    "#df1['Category']=df1['Category'].apply(lambda x:1 if x=='spam' else 0) # Does same thing as the Label ENcoder Method Below\n",
    "encoder = LabelEncoder()\n",
    "df1['Category'] = encoder.fit_transform(df1['Category'])\n",
    "\n",
    "#Drop Duplicates\n",
    "df1.drop_duplicates(keep='first', inplace=True)\n",
    "\n",
    "\n"
   ]
  },
  {
   "cell_type": "code",
   "execution_count": null,
   "id": "26f3e329",
   "metadata": {},
   "outputs": [],
   "source": []
  }
 ],
 "metadata": {
  "kernelspec": {
   "display_name": "base",
   "language": "python",
   "name": "python3"
  },
  "language_info": {
   "codemirror_mode": {
    "name": "ipython",
    "version": 3
   },
   "file_extension": ".py",
   "mimetype": "text/x-python",
   "name": "python",
   "nbconvert_exporter": "python",
   "pygments_lexer": "ipython3",
   "version": "3.13.5"
  }
 },
 "nbformat": 4,
 "nbformat_minor": 5
}
